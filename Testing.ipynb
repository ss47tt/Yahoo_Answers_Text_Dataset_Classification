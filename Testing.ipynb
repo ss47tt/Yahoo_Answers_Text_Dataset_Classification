{
 "cells": [
  {
   "cell_type": "code",
   "execution_count": 3,
   "metadata": {},
   "outputs": [
    {
     "name": "stdout",
     "output_type": "stream",
     "text": [
      "Model Evaluation Results:\n",
      "Accuracy: 0.09043475361739015\n",
      "Classification Report:\n",
      "               precision    recall  f1-score   support\n",
      "\n",
      "           0       0.09      0.06      0.08      6000\n",
      "           1       0.10      0.16      0.12      5994\n",
      "           2       0.08      0.04      0.05      6000\n",
      "           3       0.09      0.20      0.13      5998\n",
      "           4       0.10      0.04      0.06      6000\n",
      "           5       0.09      0.13      0.11      6000\n",
      "           6       0.08      0.04      0.05      5998\n",
      "           7       0.09      0.20      0.12      5999\n",
      "           8       0.07      0.01      0.02      5999\n",
      "           9       0.06      0.02      0.03      6000\n",
      "\n",
      "    accuracy                           0.09     59988\n",
      "   macro avg       0.09      0.09      0.08     59988\n",
      "weighted avg       0.09      0.09      0.08     59988\n",
      "\n"
     ]
    }
   ],
   "source": [
    "import joblib\n",
    "import pandas as pd\n",
    "from sklearn.model_selection import train_test_split\n",
    "from sklearn.metrics import accuracy_score, classification_report\n",
    "from sklearn.naive_bayes import MultinomialNB\n",
    "\n",
    "# Load the pre-trained TF-IDF vectorizers for train and test data\n",
    "vectorizer_train = joblib.load(\"tfidf_vectorizer_train.pkl\")\n",
    "vectorizer_test = joblib.load(\"tfidf_vectorizer_test.pkl\")\n",
    "\n",
    "# Load the preprocessed training and test datasets\n",
    "df_train = pd.read_csv(\"preprocessed_train.csv\")\n",
    "df_test = pd.read_csv(\"preprocessed_test.csv\")\n",
    "\n",
    "# Ensure the 'text' and 'Class' columns exist\n",
    "if \"text\" not in df_train.columns or \"Class\" not in df_train.columns:\n",
    "    raise ValueError(\"Columns 'text' and 'Class' not found in the train CSV file.\")\n",
    "\n",
    "if \"text\" not in df_test.columns or \"Class\" not in df_test.columns:\n",
    "    raise ValueError(\"Columns 'text' and 'Class' not found in the test CSV file.\")\n",
    "\n",
    "# Drop rows with NaN values in both 'text' and 'Class' columns\n",
    "df_train = df_train.dropna(subset=[\"text\", \"Class\"])\n",
    "df_test = df_test.dropna(subset=[\"text\", \"Class\"])\n",
    "\n",
    "# Extract features and labels for training and test data\n",
    "X_train = df_train[\"text\"]  # Train data text\n",
    "y_train = df_train[\"Class\"]  # Train data labels\n",
    "\n",
    "X_test = df_test[\"text\"]  # Test data text\n",
    "y_test = df_test[\"Class\"]  # Test data labels\n",
    "\n",
    "# Transform the training and test data using the corresponding vectorizers\n",
    "X_train_tfidf = vectorizer_train.transform(X_train)\n",
    "X_test_tfidf = vectorizer_test.transform(X_test)\n",
    "\n",
    "# Initialize the model (e.g., Naive Bayes)\n",
    "model = MultinomialNB()\n",
    "\n",
    "# Train the model using the training data (X_train_tfidf and y_train)\n",
    "model.fit(X_train_tfidf, y_train)\n",
    "\n",
    "# Make predictions on the test data\n",
    "y_pred = model.predict(X_test_tfidf)\n",
    "\n",
    "# Evaluate the model\n",
    "print(\"Model Evaluation Results:\")\n",
    "print(\"Accuracy:\", accuracy_score(y_test, y_pred))\n",
    "print(\"Classification Report:\\n\", classification_report(y_test, y_pred))"
   ]
  },
  {
   "cell_type": "code",
   "execution_count": 4,
   "metadata": {},
   "outputs": [
    {
     "name": "stdout",
     "output_type": "stream",
     "text": [
      "Model Evaluation Results:\n",
      "Accuracy: 0.09695272387810895\n",
      "Classification Report:\n",
      "               precision    recall  f1-score   support\n",
      "\n",
      "           0       0.10      0.04      0.05      6000\n",
      "           1       0.10      0.21      0.13      5994\n",
      "           2       0.09      0.02      0.03      6000\n",
      "           3       0.10      0.27      0.15      5998\n",
      "           4       0.11      0.02      0.04      6000\n",
      "           5       0.11      0.06      0.07      6000\n",
      "           6       0.09      0.18      0.12      5998\n",
      "           7       0.09      0.15      0.11      5999\n",
      "           8       0.07      0.00      0.01      5999\n",
      "           9       0.08      0.02      0.04      6000\n",
      "\n",
      "    accuracy                           0.10     59988\n",
      "   macro avg       0.10      0.10      0.08     59988\n",
      "weighted avg       0.10      0.10      0.08     59988\n",
      "\n"
     ]
    }
   ],
   "source": [
    "from sklearn.linear_model import LogisticRegression\n",
    "\n",
    "# Using Logistic Regression for text classification\n",
    "model = LogisticRegression(max_iter=10000)\n",
    "model.fit(X_train_tfidf, y_train)\n",
    "y_pred = model.predict(X_test_tfidf)\n",
    "\n",
    "# Evaluate the model\n",
    "print(\"Model Evaluation Results:\")\n",
    "print(\"Accuracy:\", accuracy_score(y_test, y_pred))\n",
    "print(\"Classification Report:\\n\", classification_report(y_test, y_pred))"
   ]
  }
 ],
 "metadata": {
  "kernelspec": {
   "display_name": "nlp",
   "language": "python",
   "name": "python3"
  },
  "language_info": {
   "codemirror_mode": {
    "name": "ipython",
    "version": 3
   },
   "file_extension": ".py",
   "mimetype": "text/x-python",
   "name": "python",
   "nbconvert_exporter": "python",
   "pygments_lexer": "ipython3",
   "version": "3.11.9"
  }
 },
 "nbformat": 4,
 "nbformat_minor": 2
}
