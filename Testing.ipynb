{
 "cells": [
  {
   "cell_type": "code",
   "execution_count": 1,
   "metadata": {},
   "outputs": [
    {
     "name": "stderr",
     "output_type": "stream",
     "text": [
      "c:\\Users\\User\\anaconda3\\envs\\py310\\lib\\site-packages\\sklearn\\base.py:376: InconsistentVersionWarning: Trying to unpickle estimator TfidfTransformer from version 1.6.1 when using version 1.5.2. This might lead to breaking code or invalid results. Use at your own risk. For more info please refer to:\n",
      "https://scikit-learn.org/stable/model_persistence.html#security-maintainability-limitations\n",
      "  warnings.warn(\n",
      "c:\\Users\\User\\anaconda3\\envs\\py310\\lib\\site-packages\\sklearn\\base.py:376: InconsistentVersionWarning: Trying to unpickle estimator TfidfVectorizer from version 1.6.1 when using version 1.5.2. This might lead to breaking code or invalid results. Use at your own risk. For more info please refer to:\n",
      "https://scikit-learn.org/stable/model_persistence.html#security-maintainability-limitations\n",
      "  warnings.warn(\n"
     ]
    },
    {
     "name": "stdout",
     "output_type": "stream",
     "text": [
      "Model Evaluation Results:\n",
      "Accuracy: 0.09478143397988625\n",
      "Classification Report:\n",
      "               precision    recall  f1-score   support\n",
      "\n",
      "           0       0.09      0.09      0.09      5995\n",
      "           1       0.09      0.17      0.12      5989\n",
      "           2       0.11      0.10      0.10      6000\n",
      "           3       0.10      0.15      0.12      5993\n",
      "           4       0.08      0.04      0.05      5999\n",
      "           5       0.10      0.11      0.10      5999\n",
      "           6       0.09      0.07      0.08      5989\n",
      "           7       0.09      0.12      0.10      5996\n",
      "           8       0.08      0.02      0.03      5999\n",
      "           9       0.10      0.07      0.08      6000\n",
      "\n",
      "    accuracy                           0.09     59959\n",
      "   macro avg       0.09      0.09      0.09     59959\n",
      "weighted avg       0.09      0.09      0.09     59959\n",
      "\n"
     ]
    }
   ],
   "source": [
    "import joblib\n",
    "import pandas as pd\n",
    "from sklearn.model_selection import train_test_split\n",
    "from sklearn.metrics import accuracy_score, classification_report\n",
    "from sklearn.naive_bayes import MultinomialNB\n",
    "\n",
    "# Load the pre-trained TF-IDF vectorizers for train and test data\n",
    "vectorizer_train = joblib.load(\"tfidf_vectorizer_train.pkl\")\n",
    "vectorizer_test = joblib.load(\"tfidf_vectorizer_test.pkl\")\n",
    "\n",
    "# Load the preprocessed training and test datasets\n",
    "df_train = pd.read_csv(\"preprocessed_train.csv\")\n",
    "df_test = pd.read_csv(\"preprocessed_test.csv\")\n",
    "\n",
    "# Ensure the 'text' and 'Class' columns exist\n",
    "if \"text\" not in df_train.columns or \"Class\" not in df_train.columns:\n",
    "    raise ValueError(\"Columns 'text' and 'Class' not found in the train CSV file.\")\n",
    "\n",
    "if \"text\" not in df_test.columns or \"Class\" not in df_test.columns:\n",
    "    raise ValueError(\"Columns 'text' and 'Class' not found in the test CSV file.\")\n",
    "\n",
    "# Drop rows with NaN values in both 'text' and 'Class' columns\n",
    "df_train = df_train.dropna(subset=[\"text\", \"Class\"])\n",
    "df_test = df_test.dropna(subset=[\"text\", \"Class\"])\n",
    "\n",
    "# Extract features and labels for training and test data\n",
    "X_train = df_train[\"text\"]  # Train data text\n",
    "y_train = df_train[\"Class\"]  # Train data labels\n",
    "\n",
    "X_test = df_test[\"text\"]  # Test data text\n",
    "y_test = df_test[\"Class\"]  # Test data labels\n",
    "\n",
    "# Transform the training and test data using the corresponding vectorizers\n",
    "X_train_tfidf = vectorizer_train.transform(X_train)\n",
    "X_test_tfidf = vectorizer_test.transform(X_test)\n",
    "\n",
    "# Initialize the model (e.g., Naive Bayes)\n",
    "model = MultinomialNB()\n",
    "\n",
    "# Train the model using the training data (X_train_tfidf and y_train)\n",
    "model.fit(X_train_tfidf, y_train)\n",
    "\n",
    "# Make predictions on the test data\n",
    "y_pred = model.predict(X_test_tfidf)\n",
    "\n",
    "# Evaluate the model\n",
    "print(\"Model Evaluation Results:\")\n",
    "print(\"Accuracy:\", accuracy_score(y_test, y_pred))\n",
    "print(\"Classification Report:\\n\", classification_report(y_test, y_pred))"
   ]
  },
  {
   "cell_type": "code",
   "execution_count": 2,
   "metadata": {},
   "outputs": [
    {
     "name": "stdout",
     "output_type": "stream",
     "text": [
      "Model Evaluation Results:\n",
      "Accuracy: 0.09855067629546857\n",
      "Classification Report:\n",
      "               precision    recall  f1-score   support\n",
      "\n",
      "           0       0.11      0.06      0.08      5995\n",
      "           1       0.10      0.25      0.14      5989\n",
      "           2       0.10      0.07      0.08      6000\n",
      "           3       0.11      0.23      0.14      5993\n",
      "           4       0.07      0.02      0.03      5999\n",
      "           5       0.11      0.08      0.09      5999\n",
      "           6       0.11      0.17      0.13      5989\n",
      "           7       0.08      0.08      0.08      5996\n",
      "           8       0.08      0.01      0.01      5999\n",
      "           9       0.10      0.03      0.04      6000\n",
      "\n",
      "    accuracy                           0.10     59959\n",
      "   macro avg       0.09      0.10      0.08     59959\n",
      "weighted avg       0.09      0.10      0.08     59959\n",
      "\n"
     ]
    }
   ],
   "source": [
    "from sklearn.linear_model import LogisticRegression\n",
    "\n",
    "# Using Logistic Regression for text classification\n",
    "model = LogisticRegression(max_iter=10000)\n",
    "model.fit(X_train_tfidf, y_train)\n",
    "y_pred = model.predict(X_test_tfidf)\n",
    "\n",
    "# Evaluate the model\n",
    "print(\"Model Evaluation Results:\")\n",
    "print(\"Accuracy:\", accuracy_score(y_test, y_pred))\n",
    "print(\"Classification Report:\\n\", classification_report(y_test, y_pred))"
   ]
  }
 ],
 "metadata": {
  "kernelspec": {
   "display_name": "py310",
   "language": "python",
   "name": "python3"
  },
  "language_info": {
   "codemirror_mode": {
    "name": "ipython",
    "version": 3
   },
   "file_extension": ".py",
   "mimetype": "text/x-python",
   "name": "python",
   "nbconvert_exporter": "python",
   "pygments_lexer": "ipython3",
   "version": "3.10.16"
  }
 },
 "nbformat": 4,
 "nbformat_minor": 2
}
