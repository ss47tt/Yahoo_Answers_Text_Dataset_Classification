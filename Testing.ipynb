{
 "cells": [
  {
   "cell_type": "code",
   "execution_count": 1,
   "metadata": {},
   "outputs": [
    {
     "data": {
      "text/plain": [
       "['tfidf_vectorizer.pkl']"
      ]
     },
     "execution_count": 1,
     "metadata": {},
     "output_type": "execute_result"
    }
   ],
   "source": [
    "import pandas as pd\n",
    "from sklearn.feature_extraction.text import TfidfVectorizer\n",
    "import joblib\n",
    "\n",
    "# Load preprocessed training and test datasets\n",
    "df_train = pd.read_csv(\"preprocessed_train.csv\")\n",
    "df_test = pd.read_csv(\"preprocessed_test.csv\")\n",
    "\n",
    "# Ensure required columns exist\n",
    "for df, name in [(df_train, \"train\"), (df_test, \"test\")]:\n",
    "    if \"text\" not in df.columns or \"Class\" not in df.columns:\n",
    "        raise ValueError(f\"Columns 'text' and 'Class' not found in {name} CSV file.\")\n",
    "\n",
    "# Drop rows with NaN values in 'text' and 'Class'\n",
    "df_train.dropna(subset=[\"text\", \"Class\"], inplace=True)\n",
    "df_test.dropna(subset=[\"text\", \"Class\"], inplace=True)\n",
    "\n",
    "# Combine text data from both datasets\n",
    "all_text = pd.concat([df_train[\"text\"], df_test[\"text\"]], axis=0)\n",
    "\n",
    "# Initialize and fit TF-IDF vectorizer on both train & test text data\n",
    "vectorizer = TfidfVectorizer(max_features=100000)\n",
    "vectorizer.fit(all_text)\n",
    "\n",
    "# Transform train and test separately\n",
    "X_train_tfidf = vectorizer.transform(df_train[\"text\"])\n",
    "X_test_tfidf = vectorizer.transform(df_test[\"text\"])\n",
    "\n",
    "# Save the trained vectorizer\n",
    "joblib.dump(vectorizer, \"tfidf_vectorizer.pkl\")"
   ]
  },
  {
   "cell_type": "code",
   "execution_count": 2,
   "metadata": {},
   "outputs": [
    {
     "name": "stdout",
     "output_type": "stream",
     "text": [
      "Model Evaluation Results:\n",
      "Accuracy: 0.7023738080949523\n",
      "Classification Report:\n",
      "               precision    recall  f1-score   support\n",
      "\n",
      "           0       0.60      0.54      0.57      6000\n",
      "           1       0.73      0.74      0.73      5994\n",
      "           2       0.73      0.80      0.76      6000\n",
      "           3       0.60      0.45      0.52      5998\n",
      "           4       0.82      0.87      0.84      6000\n",
      "           5       0.88      0.84      0.86      6000\n",
      "           6       0.58      0.52      0.55      5998\n",
      "           7       0.68      0.70      0.69      5999\n",
      "           8       0.62      0.81      0.70      5999\n",
      "           9       0.75      0.76      0.75      6000\n",
      "\n",
      "    accuracy                           0.70     59988\n",
      "   macro avg       0.70      0.70      0.70     59988\n",
      "weighted avg       0.70      0.70      0.70     59988\n",
      "\n"
     ]
    }
   ],
   "source": [
    "import joblib\n",
    "import pandas as pd\n",
    "from sklearn.metrics import accuracy_score, classification_report\n",
    "from sklearn.naive_bayes import MultinomialNB\n",
    "\n",
    "# Load the correct TF-IDF vectorizer\n",
    "vectorizer = joblib.load(\"tfidf_vectorizer.pkl\")\n",
    "\n",
    "# Load the preprocessed training and test datasets\n",
    "df_train = pd.read_csv(\"preprocessed_train.csv\")\n",
    "df_test = pd.read_csv(\"preprocessed_test.csv\")\n",
    "\n",
    "# Ensure the 'text' and 'Class' columns exist\n",
    "if \"text\" not in df_train.columns or \"Class\" not in df_train.columns:\n",
    "    raise ValueError(\"Columns 'text' and 'Class' not found in the train CSV file.\")\n",
    "\n",
    "if \"text\" not in df_test.columns or \"Class\" not in df_test.columns:\n",
    "    raise ValueError(\"Columns 'text' and 'Class' not found in the test CSV file.\")\n",
    "\n",
    "# Drop rows with NaN values in both 'text' and 'Class' columns\n",
    "df_train = df_train.dropna(subset=[\"text\", \"Class\"])\n",
    "df_test = df_test.dropna(subset=[\"text\", \"Class\"])\n",
    "\n",
    "# Extract labels for training and test data\n",
    "y_train = df_train[\"Class\"]\n",
    "y_test = df_test[\"Class\"]\n",
    "\n",
    "# Transform text using the same TF-IDF vectorizer\n",
    "X_train_tfidf = vectorizer.transform(df_train[\"text\"])\n",
    "X_test_tfidf = vectorizer.transform(df_test[\"text\"])\n",
    "\n",
    "# Initialize the model (e.g., Naive Bayes)\n",
    "model = MultinomialNB()\n",
    "\n",
    "# Train the model\n",
    "model.fit(X_train_tfidf, y_train)\n",
    "\n",
    "# Make predictions on the test data\n",
    "y_pred = model.predict(X_test_tfidf)\n",
    "\n",
    "# Evaluate the model\n",
    "print(\"Model Evaluation Results:\")\n",
    "print(\"Accuracy:\", accuracy_score(y_test, y_pred))\n",
    "print(\"Classification Report:\\n\", classification_report(y_test, y_pred))"
   ]
  },
  {
   "cell_type": "code",
   "execution_count": 3,
   "metadata": {},
   "outputs": [
    {
     "name": "stdout",
     "output_type": "stream",
     "text": [
      "Model Evaluation Results:\n",
      "Accuracy: 0.7184770287390811\n",
      "Classification Report:\n",
      "               precision    recall  f1-score   support\n",
      "\n",
      "           0       0.61      0.57      0.59      6000\n",
      "           1       0.71      0.77      0.74      5994\n",
      "           2       0.76      0.80      0.78      6000\n",
      "           3       0.57      0.52      0.54      5998\n",
      "           4       0.84      0.87      0.86      6000\n",
      "           5       0.88      0.89      0.88      6000\n",
      "           6       0.60      0.51      0.55      5998\n",
      "           7       0.69      0.73      0.71      5999\n",
      "           8       0.71      0.76      0.74      5999\n",
      "           9       0.77      0.76      0.77      6000\n",
      "\n",
      "    accuracy                           0.72     59988\n",
      "   macro avg       0.71      0.72      0.72     59988\n",
      "weighted avg       0.71      0.72      0.72     59988\n",
      "\n"
     ]
    }
   ],
   "source": [
    "from sklearn.linear_model import LogisticRegression\n",
    "\n",
    "# Using Logistic Regression for text classification\n",
    "model = LogisticRegression(max_iter=10000)\n",
    "model.fit(X_train_tfidf, y_train)\n",
    "y_pred = model.predict(X_test_tfidf)\n",
    "\n",
    "# Evaluate the model\n",
    "print(\"Model Evaluation Results:\")\n",
    "print(\"Accuracy:\", accuracy_score(y_test, y_pred))\n",
    "print(\"Classification Report:\\n\", classification_report(y_test, y_pred))"
   ]
  }
 ],
 "metadata": {
  "kernelspec": {
   "display_name": "nlp",
   "language": "python",
   "name": "python3"
  },
  "language_info": {
   "codemirror_mode": {
    "name": "ipython",
    "version": 3
   },
   "file_extension": ".py",
   "mimetype": "text/x-python",
   "name": "python",
   "nbconvert_exporter": "python",
   "pygments_lexer": "ipython3",
   "version": "3.11.9"
  }
 },
 "nbformat": 4,
 "nbformat_minor": 2
}
