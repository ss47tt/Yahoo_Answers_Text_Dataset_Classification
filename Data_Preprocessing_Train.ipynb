{
 "cells": [
  {
   "cell_type": "code",
   "execution_count": 5,
   "metadata": {},
   "outputs": [
    {
     "name": "stdout",
     "output_type": "stream",
     "text": [
      "   5 why doesn't an optical mouse work on a glass table?  \\\n",
      "0  6       What is the best off-road motorcycle trail ?    \n",
      "1  3             What is Trans Fat? How to reduce that?    \n",
      "2  7                         How many planes Fedex has?    \n",
      "3  7  In the san francisco bay area, does it make se...    \n",
      "4  5           What's the best way to clean a keyboard?    \n",
      "\n",
      "                           or even on some surfaces?  \\\n",
      "0                  long-distance trail throughout CA   \n",
      "1  I heard that tras fat is bad for the body.  Wh...   \n",
      "2  I heard that it is the largest airline in the ...   \n",
      "3  the prices of rent and the price of buying doe...   \n",
      "4  I have very small stuff stuck under my keyboar...   \n",
      "\n",
      "  Optical mice use an LED and a camera to rapidly capture images of the surface beneath the mouse.  The infomation from the camera is analyzed by a DSP (Digital Signal Processor) and used to detect imperfections in the underlying surface and determine motion. Some materials, such as glass, mirrors or other very shiny, uniform surfaces interfere with the ability of the DSP to accurately analyze the surface beneath the mouse.  \\nSince glass is transparent and very uniform, the mouse is unable to pick up enough imperfections in the underlying surface to determine motion.  Mirrored surfaces are also a problem, since they constantly reflect back the same image, causing the DSP not to recognize motion properly. When the system is unable to see surface changes associated with movement, the mouse will not work properly.  \n",
      "0  i hear that the mojave road is amazing!<br />\\...                                                                                                                                                                                                                                                                                                                                                                                                                                                                                                                                                                                                                                                                                                                                                                                                     \n",
      "1  Trans fats occur in manufactured foods during ...                                                                                                                                                                                                                                                                                                                                                                                                                                                                                                                                                                                                                                                                                                                                                                                                     \n",
      "2  according to the www.fedex.com web site:\\nAir ...                                                                                                                                                                                                                                                                                                                                                                                                                                                                                                                                                                                                                                                                                                                                                                                                     \n",
      "3  renting vs buying depends on your goals. <br /...                                                                                                                                                                                                                                                                                                                                                                                                                                                                                                                                                                                                                                                                                                                                                                                                     \n",
      "4  There are commercial kits available, but a can...                                                                                                                                                                                                                                                                                                                                                                                                                                                                                                                                                                                                                                                                                                                                                                                                     \n"
     ]
    }
   ],
   "source": [
    "import pandas as pd\n",
    "\n",
    "# Load CSV (adjust delimiter if needed)\n",
    "df = pd.read_csv(\"train.csv\")\n",
    "\n",
    "# Display first few rows\n",
    "print(df.head())"
   ]
  },
  {
   "cell_type": "code",
   "execution_count": 6,
   "metadata": {},
   "outputs": [],
   "source": [
    "# If the dataset has column names, replace with actual names\n",
    "df.columns = [\"Class\", \"Title\", \"Content\", \"Answer\"]\n",
    "\n",
    "# Combine title and content into a single text field\n",
    "df[\"text\"] = df[\"Title\"].fillna('') + \" \" + df[\"Content\"].fillna('')\n",
    "\n",
    "# Keep only the relevant columns\n",
    "df = df[[\"Class\", \"text\"]]\n",
    "\n",
    "# Convert class labels to zero-based indexing (optional)\n",
    "df[\"Class\"] = df[\"Class\"] - 1  # Convert from 1-10 to 0-9"
   ]
  },
  {
   "cell_type": "code",
   "execution_count": 7,
   "metadata": {},
   "outputs": [
    {
     "name": "stderr",
     "output_type": "stream",
     "text": [
      "[nltk_data] Downloading package stopwords to\n",
      "[nltk_data]     C:\\Users\\User\\AppData\\Roaming\\nltk_data...\n",
      "[nltk_data]   Package stopwords is already up-to-date!\n",
      "[nltk_data] Downloading package wordnet to\n",
      "[nltk_data]     C:\\Users\\User\\AppData\\Roaming\\nltk_data...\n",
      "[nltk_data]   Package wordnet is already up-to-date!\n"
     ]
    }
   ],
   "source": [
    "import re\n",
    "import string\n",
    "import nltk\n",
    "from nltk.corpus import stopwords\n",
    "from nltk.stem import WordNetLemmatizer\n",
    "from contractions import fix  # Install using: pip install contractions\n",
    "\n",
    "# Download necessary NLTK resources\n",
    "nltk.download(\"stopwords\")\n",
    "nltk.download(\"wordnet\")\n",
    "\n",
    "# Load stopwords\n",
    "stop_words = set(stopwords.words(\"english\"))\n",
    "\n",
    "# Initialize lemmatizer\n",
    "lemmatizer = WordNetLemmatizer()\n",
    "\n",
    "def clean_text(text):\n",
    "    # Expand contractions (e.g., \"don't\" -> \"do not\")\n",
    "    text = fix(text)\n",
    "    \n",
    "    # Lowercasing\n",
    "    text = text.lower()\n",
    "    \n",
    "    # Remove numbers\n",
    "    text = re.sub(r'\\d+', '', text)\n",
    "    \n",
    "    # Remove punctuation\n",
    "    text = text.translate(str.maketrans(\"\", \"\", string.punctuation))\n",
    "    \n",
    "    # Tokenize, remove stopwords, and lemmatize\n",
    "    text = \" \".join(lemmatizer.lemmatize(word.strip()) for word in text.split() if word not in stop_words)\n",
    "    \n",
    "    return text\n",
    "\n",
    "# Apply the function to the dataset\n",
    "df[\"text\"] = df[\"text\"].apply(clean_text)\n",
    "\n",
    "df.to_csv(\"preprocessed_train.csv\", index=False)"
   ]
  },
  {
   "cell_type": "code",
   "execution_count": 8,
   "metadata": {},
   "outputs": [
    {
     "data": {
      "text/plain": [
       "['tfidf_vectorizer_train.pkl']"
      ]
     },
     "execution_count": 8,
     "metadata": {},
     "output_type": "execute_result"
    }
   ],
   "source": [
    "import pandas as pd\n",
    "from sklearn.feature_extraction.text import TfidfVectorizer\n",
    "import joblib\n",
    "\n",
    "# Load preprocessed dataset\n",
    "df = pd.read_csv(\"preprocessed_train.csv\")\n",
    "\n",
    "# Ensure columns exist\n",
    "if \"text\" not in df.columns or \"Class\" not in df.columns:\n",
    "    raise ValueError(\"Columns 'text' and 'Class' not found in the CSV file.\")\n",
    "\n",
    "# Drop rows with NaN values in both 'text' and 'Class' columns\n",
    "df = df.dropna(subset=[\"text\", \"Class\"])\n",
    "\n",
    "# Extract features and labels\n",
    "X = df[\"text\"]  # Text data\n",
    "y = df[\"Class\"]  # Target labels\n",
    "\n",
    "# Initialize the vectorizer after data cleaning\n",
    "vectorizer = TfidfVectorizer(max_features=50000)\n",
    "\n",
    "# Proceed with TF-IDF vectorization\n",
    "X = vectorizer.fit_transform(X)\n",
    "\n",
    "# Save the TF-IDF vectorizer model\n",
    "joblib.dump(vectorizer, \"tfidf_vectorizer_train.pkl\")"
   ]
  },
  {
   "cell_type": "code",
   "execution_count": null,
   "metadata": {},
   "outputs": [],
   "source": []
  },
  {
   "cell_type": "code",
   "execution_count": null,
   "metadata": {},
   "outputs": [],
   "source": []
  },
  {
   "cell_type": "code",
   "execution_count": null,
   "metadata": {},
   "outputs": [],
   "source": []
  },
  {
   "cell_type": "code",
   "execution_count": null,
   "metadata": {},
   "outputs": [],
   "source": []
  },
  {
   "cell_type": "code",
   "execution_count": null,
   "metadata": {},
   "outputs": [],
   "source": []
  }
 ],
 "metadata": {
  "kernelspec": {
   "display_name": "nlp",
   "language": "python",
   "name": "python3"
  },
  "language_info": {
   "codemirror_mode": {
    "name": "ipython",
    "version": 3
   },
   "file_extension": ".py",
   "mimetype": "text/x-python",
   "name": "python",
   "nbconvert_exporter": "python",
   "pygments_lexer": "ipython3",
   "version": "3.11.9"
  }
 },
 "nbformat": 4,
 "nbformat_minor": 2
}
